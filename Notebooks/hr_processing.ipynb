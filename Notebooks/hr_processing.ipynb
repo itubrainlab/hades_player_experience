{
 "cells": [
  {
   "cell_type": "code",
   "execution_count": 7,
   "metadata": {
    "collapsed": true
   },
   "outputs": [],
   "source": [
    "import pandas as pd\n",
    "import os\n",
    "import glob"
   ]
  },
  {
   "cell_type": "code",
   "execution_count": 13,
   "outputs": [
    {
     "data": {
      "text/plain": "['/Users/paoloburelli/Source/Research/hadesfrustrationstudy/Notebooks/../HR Data/Player_8.csv',\n '/Users/paoloburelli/Source/Research/hadesfrustrationstudy/Notebooks/../HR Data/Player_9.csv',\n '/Users/paoloburelli/Source/Research/hadesfrustrationstudy/Notebooks/../HR Data/Player_20.csv',\n '/Users/paoloburelli/Source/Research/hadesfrustrationstudy/Notebooks/../HR Data/Player_18.csv',\n '/Users/paoloburelli/Source/Research/hadesfrustrationstudy/Notebooks/../HR Data/Player_19.csv',\n '/Users/paoloburelli/Source/Research/hadesfrustrationstudy/Notebooks/../HR Data/Player_14.csv',\n '/Users/paoloburelli/Source/Research/hadesfrustrationstudy/Notebooks/../HR Data/Player_15.csv',\n '/Users/paoloburelli/Source/Research/hadesfrustrationstudy/Notebooks/../HR Data/Player_17.csv',\n '/Users/paoloburelli/Source/Research/hadesfrustrationstudy/Notebooks/../HR Data/Player_16.csv',\n '/Users/paoloburelli/Source/Research/hadesfrustrationstudy/Notebooks/../HR Data/Player_12.csv',\n '/Users/paoloburelli/Source/Research/hadesfrustrationstudy/Notebooks/../HR Data/Player_13.csv',\n '/Users/paoloburelli/Source/Research/hadesfrustrationstudy/Notebooks/../HR Data/Player_11.csv',\n '/Users/paoloburelli/Source/Research/hadesfrustrationstudy/Notebooks/../HR Data/Player_10.csv',\n '/Users/paoloburelli/Source/Research/hadesfrustrationstudy/Notebooks/../HR Data/Player_4.csv',\n '/Users/paoloburelli/Source/Research/hadesfrustrationstudy/Notebooks/../HR Data/Player_5.csv',\n '/Users/paoloburelli/Source/Research/hadesfrustrationstudy/Notebooks/../HR Data/Player_7.csv',\n '/Users/paoloburelli/Source/Research/hadesfrustrationstudy/Notebooks/../HR Data/Player_6.csv',\n '/Users/paoloburelli/Source/Research/hadesfrustrationstudy/Notebooks/../HR Data/Player_2.csv',\n '/Users/paoloburelli/Source/Research/hadesfrustrationstudy/Notebooks/../HR Data/Player_3.csv',\n '/Users/paoloburelli/Source/Research/hadesfrustrationstudy/Notebooks/../HR Data/Player_1.csv']"
     },
     "execution_count": 13,
     "metadata": {},
     "output_type": "execute_result"
    }
   ],
   "source": [
    "path = os.getcwd()\n",
    "csv_files = glob.glob(os.path.join(path, \"..\", \"HR Data\", \"*.csv\"))"
   ],
   "metadata": {
    "collapsed": false,
    "pycharm": {
     "name": "#%%\n"
    }
   }
  },
  {
   "cell_type": "code",
   "execution_count": 57,
   "outputs": [],
   "source": [
    "hr = [pd.read_csv(f) for f in csv_files]"
   ],
   "metadata": {
    "collapsed": false,
    "pycharm": {
     "name": "#%%\n"
    }
   }
  },
  {
   "cell_type": "code",
   "execution_count": 77,
   "outputs": [],
   "source": [
    "hr_dataframe = pd.DataFrame([{\"player\": int(hri[\"Player Number\"][0]),\n",
    "            \"hr_min\":hri[\"HR (bpm)\"].min(),\n",
    "            \"hr_max\":hri[\"HR (bpm)\"].max(),\n",
    "            \"hr_mean\":hri[\"HR (bpm)\"].mean(),\n",
    "            \"hr_std\":hri[\"HR (bpm)\"].std(),\n",
    "            \"hr_peak\":hri[\"HR (bpm)\"][hri[\"HR (bpm)\"] >= 0.9*hri[\"HR (bpm)\"].max()].count()/hri[\"HR (bpm)\"].count(),\n",
    "            \"hr_bottom\":hri[\"HR (bpm)\"][hri[\"HR (bpm)\"] <= 1.1*hri[\"HR (bpm)\"].min()].count()/hri[\"HR (bpm)\"].count()} for hri in hr]).set_index(\"player\")"
   ],
   "metadata": {
    "collapsed": false,
    "pycharm": {
     "name": "#%%\n"
    }
   }
  },
  {
   "cell_type": "code",
   "execution_count": 92,
   "outputs": [],
   "source": [
    "hr_dataframe.to_csv(os.path.join(path, \"..\", \"Processed\", \"hr_summary.csv\"))"
   ],
   "metadata": {
    "collapsed": false,
    "pycharm": {
     "name": "#%%\n"
    }
   }
  }
 ],
 "metadata": {
  "kernelspec": {
   "display_name": "Python 3",
   "language": "python",
   "name": "python3"
  },
  "language_info": {
   "codemirror_mode": {
    "name": "ipython",
    "version": 2
   },
   "file_extension": ".py",
   "mimetype": "text/x-python",
   "name": "python",
   "nbconvert_exporter": "python",
   "pygments_lexer": "ipython2",
   "version": "2.7.6"
  }
 },
 "nbformat": 4,
 "nbformat_minor": 0
}