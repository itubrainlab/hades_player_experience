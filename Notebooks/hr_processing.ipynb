{
 "cells": [
  {
   "cell_type": "code",
   "execution_count": 1,
   "metadata": {
    "collapsed": true
   },
   "outputs": [],
   "source": [
    "import pandas as pd\n",
    "import os\n",
    "import glob\n",
    "import numpy as np\n",
    "from datetime import datetime"
   ]
  },
  {
   "cell_type": "code",
   "execution_count": 2,
   "outputs": [],
   "source": [
    "path = os.getcwd()\n",
    "csv_files = glob.glob(os.path.join(path, \"..\", \"HR Data\", \"*.csv\"))"
   ],
   "metadata": {
    "collapsed": false,
    "pycharm": {
     "name": "#%%\n"
    }
   }
  },
  {
   "cell_type": "code",
   "execution_count": 11,
   "outputs": [],
   "source": [
    "hr_list = [pd.read_csv(f).drop([\"Start time\", \"Date\", \"Duration\", \"Average heart rate (bpm)\", \"Calories\"], axis=1) for f\n",
    "           in csv_files]\n",
    "\n",
    "for df in hr_list:\n",
    "    df[\"Player Number\"] = int(df[\"Player Number\"][0])\n",
    "\n",
    "hr_dataframe = pd.concat(hr_list)\n",
    "hr_dataframe[\"Time\"] = hr_dataframe[\"Time\"].apply(lambda d: datetime.strptime(d, \"%H:%M:%S\"))\n",
    "hr_dataframe.rename(columns={'Player Number': 'player'}, inplace=True)"
   ],
   "metadata": {
    "collapsed": false,
    "pycharm": {
     "name": "#%%\n"
    }
   }
  },
  {
   "cell_type": "code",
   "execution_count": 12,
   "outputs": [],
   "source": [
    "def hr_stats(hri):\n",
    "    return pd.Series({\"hr_min\": hri[\"HR (bpm)\"].min(),\n",
    "                      \"hr_max\": hri[\"HR (bpm)\"].max(),\n",
    "                      \"hr_mean\": hri[\"HR (bpm)\"].mean(),\n",
    "                      \"hr_std\": hri[\"HR (bpm)\"].std(),\n",
    "                      \"hr_peak\": hri[\"HR (bpm)\"][hri[\"HR (bpm)\"] >= 0.9 * hri[\"HR (bpm)\"].max()].count() / hri[\n",
    "                          \"HR (bpm)\"].count(),\n",
    "                      \"hr_bottom\": hri[\"HR (bpm)\"][hri[\"HR (bpm)\"] <= 1.1 * hri[\"HR (bpm)\"].min()].count() / hri[\n",
    "                          \"HR (bpm)\"].count()})\n"
   ],
   "metadata": {
    "collapsed": false,
    "pycharm": {
     "name": "#%%\n"
    }
   }
  },
  {
   "cell_type": "code",
   "execution_count": 13,
   "outputs": [],
   "source": [
    "hr_player_summary = hr_dataframe.groupby([\"player\"]).apply(hr_stats)\n",
    "hr_player_summary.sort_values(by=\"player\").to_csv(os.path.join(path, \"..\", \"Processed\", \"hr_summary.csv\"))"
   ],
   "metadata": {
    "collapsed": false,
    "pycharm": {
     "name": "#%%\n"
    }
   }
  },
  {
   "cell_type": "code",
   "execution_count": 14,
   "outputs": [],
   "source": [
    "runs = pd.read_csv(os.path.join(path, \"..\", \"Processed\", \"run_stats.csv\"))\n",
    "\n",
    "runs[\"run_start\"] = runs[\"run_start\"].apply(lambda d: datetime.strptime(d, \"%M:%S:%f\"))\n",
    "runs[\"run_end\"] = runs[\"run_end\"].apply(lambda d: datetime.strptime(d, \"%M:%S:%f\"))"
   ],
   "metadata": {
    "collapsed": false,
    "pycharm": {
     "name": "#%%\n"
    }
   }
  },
  {
   "cell_type": "code",
   "execution_count": 36,
   "outputs": [],
   "source": [
    "\n",
    "def calculate_run(hri, runs):\n",
    "    hri[\"attempt\"] = -1\n",
    "    player_runs = runs[[\"attempt\", \"run_start\", \"run_end\"]][runs[\"player\"] == hri[\"player\"]]\n",
    "    if player_runs[\"run_start\"].min() <= hri[\"Time\"] <= player_runs[\"run_end\"].max():\n",
    "        for index, row in player_runs.iterrows():\n",
    "            if row[\"run_start\"] <= hri[\"Time\"] <= row[\"run_end\"]:\n",
    "                hri[\"attempt\"] = row[\"attempt\"]\n",
    "                break\n",
    "    return hri\n",
    "\n",
    "\n",
    "runs_hr = hr_dataframe.apply(lambda hri: calculate_run(hri, runs), axis=1)"
   ],
   "metadata": {
    "collapsed": false,
    "pycharm": {
     "name": "#%%\n"
    }
   }
  },
  {
   "cell_type": "code",
   "execution_count": 42,
   "outputs": [
    {
     "ename": "KeyError",
     "evalue": "\"None of ['player', 'attempt'] are in the columns\"",
     "output_type": "error",
     "traceback": [
      "\u001B[0;31m---------------------------------------------------------------------------\u001B[0m",
      "\u001B[0;31mKeyError\u001B[0m                                  Traceback (most recent call last)",
      "Cell \u001B[0;32mIn[42], line 1\u001B[0m\n\u001B[0;32m----> 1\u001B[0m \u001B[43mruns_hr\u001B[49m\u001B[38;5;241;43m.\u001B[39;49m\u001B[43mset_index\u001B[49m\u001B[43m(\u001B[49m\u001B[43m[\u001B[49m\u001B[38;5;124;43m\"\u001B[39;49m\u001B[38;5;124;43mplayer\u001B[39;49m\u001B[38;5;124;43m\"\u001B[39;49m\u001B[43m,\u001B[49m\u001B[43m \u001B[49m\u001B[38;5;124;43m\"\u001B[39;49m\u001B[38;5;124;43mattempt\u001B[39;49m\u001B[38;5;124;43m\"\u001B[39;49m\u001B[43m]\u001B[49m\u001B[43m,\u001B[49m\u001B[43m \u001B[49m\u001B[43minplace\u001B[49m\u001B[38;5;241;43m=\u001B[39;49m\u001B[38;5;28;43;01mTrue\u001B[39;49;00m\u001B[43m)\u001B[49m\n\u001B[1;32m      2\u001B[0m runs_hr\u001B[38;5;241m.\u001B[39msort_values(by\u001B[38;5;241m=\u001B[39m[\u001B[38;5;124m\"\u001B[39m\u001B[38;5;124mplayer\u001B[39m\u001B[38;5;124m\"\u001B[39m, \u001B[38;5;124m\"\u001B[39m\u001B[38;5;124mattempt\u001B[39m\u001B[38;5;124m\"\u001B[39m,\u001B[38;5;124m\"\u001B[39m\u001B[38;5;124mtime\u001B[39m\u001B[38;5;124m\"\u001B[39m])\u001B[38;5;241m.\u001B[39mto_csv(os\u001B[38;5;241m.\u001B[39mpath\u001B[38;5;241m.\u001B[39mjoin(path, \u001B[38;5;124m\"\u001B[39m\u001B[38;5;124m..\u001B[39m\u001B[38;5;124m\"\u001B[39m, \u001B[38;5;124m\"\u001B[39m\u001B[38;5;124mProcessed\u001B[39m\u001B[38;5;124m\"\u001B[39m, \u001B[38;5;124m\"\u001B[39m\u001B[38;5;124mruns_hr.csv\u001B[39m\u001B[38;5;124m\"\u001B[39m))\n",
      "File \u001B[0;32m~/Source/Research/hadesfrustrationstudy/venv/lib/python3.8/site-packages/pandas/core/frame.py:5869\u001B[0m, in \u001B[0;36mDataFrame.set_index\u001B[0;34m(self, keys, drop, append, inplace, verify_integrity)\u001B[0m\n\u001B[1;32m   5866\u001B[0m                 missing\u001B[38;5;241m.\u001B[39mappend(col)\n\u001B[1;32m   5868\u001B[0m \u001B[38;5;28;01mif\u001B[39;00m missing:\n\u001B[0;32m-> 5869\u001B[0m     \u001B[38;5;28;01mraise\u001B[39;00m \u001B[38;5;167;01mKeyError\u001B[39;00m(\u001B[38;5;124mf\u001B[39m\u001B[38;5;124m\"\u001B[39m\u001B[38;5;124mNone of \u001B[39m\u001B[38;5;132;01m{\u001B[39;00mmissing\u001B[38;5;132;01m}\u001B[39;00m\u001B[38;5;124m are in the columns\u001B[39m\u001B[38;5;124m\"\u001B[39m)\n\u001B[1;32m   5871\u001B[0m \u001B[38;5;28;01mif\u001B[39;00m inplace:\n\u001B[1;32m   5872\u001B[0m     frame \u001B[38;5;241m=\u001B[39m \u001B[38;5;28mself\u001B[39m\n",
      "\u001B[0;31mKeyError\u001B[0m: \"None of ['player', 'attempt'] are in the columns\""
     ]
    }
   ],
   "source": [
    "runs_hr.set_index([\"player\", \"attempt\"], inplace=True)\n",
    "runs_hr.sort_values(by=[\"player\", \"attempt\",\"time\"]).to_csv(os.path.join(path, \"..\", \"Processed\", \"runs_hr.csv\"))"
   ],
   "metadata": {
    "collapsed": false,
    "pycharm": {
     "name": "#%%\n"
    }
   }
  },
  {
   "cell_type": "code",
   "execution_count": 43,
   "outputs": [],
   "source": [
    "def run_hr_stats(hri, all_player_summary):\n",
    "    player_number = hri.index[0][0]\n",
    "    player_summary = all_player_summary.loc[[player_number]]\n",
    "    hr_min = player_summary[\"hr_min\"].min()\n",
    "    hr_max = player_summary[\"hr_max\"].max()\n",
    "    return pd.Series({\"hr_min\": hri[\"HR (bpm)\"].min(),\n",
    "                      \"hr_max\": hri[\"HR (bpm)\"].max(),\n",
    "                      \"hr_mean\": hri[\"HR (bpm)\"].mean(),\n",
    "                      \"hr_std\": hri[\"HR (bpm)\"].std(),\n",
    "                      \"hr_peak\": hri[\"HR (bpm)\"][hri[\"HR (bpm)\"] >= 0.9 * hr_max].count() / hri[\n",
    "                          \"HR (bpm)\"].count(),\n",
    "                      \"hr_bottom\": hri[\"HR (bpm)\"][hri[\"HR (bpm)\"] <= 1.1 * hr_min].count() / hri[\n",
    "                          \"HR (bpm)\"].count()})\n",
    "\n",
    "\n",
    "hr_runs_summary = runs_hr.groupby([\"player\", \"attempt\"]).apply(lambda hri: run_hr_stats(hri, hr_player_summary))\n",
    "hr_runs_summary.to_csv(os.path.join(path, \"..\", \"Processed\", \"runs_hr_summary.csv\"))"
   ],
   "metadata": {
    "collapsed": false,
    "pycharm": {
     "name": "#%%\n"
    }
   }
  }
 ],
 "metadata": {
  "kernelspec": {
   "display_name": "Python 3",
   "language": "python",
   "name": "python3"
  },
  "language_info": {
   "codemirror_mode": {
    "name": "ipython",
    "version": 2
   },
   "file_extension": ".py",
   "mimetype": "text/x-python",
   "name": "python",
   "nbconvert_exporter": "python",
   "pygments_lexer": "ipython2",
   "version": "2.7.6"
  }
 },
 "nbformat": 4,
 "nbformat_minor": 0
}