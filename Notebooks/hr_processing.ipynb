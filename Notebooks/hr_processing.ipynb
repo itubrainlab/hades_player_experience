{
 "cells": [
  {
   "cell_type": "code",
   "execution_count": 105,
   "metadata": {
    "collapsed": true
   },
   "outputs": [],
   "source": [
    "import pandas as pd\n",
    "import os\n",
    "import glob"
   ]
  },
  {
   "cell_type": "code",
   "execution_count": 106,
   "outputs": [],
   "source": [
    "path = os.getcwd()\n",
    "csv_files = glob.glob(os.path.join(path, \"..\", \"HR Data\", \"*.csv\"))"
   ],
   "metadata": {
    "collapsed": false,
    "pycharm": {
     "name": "#%%\n"
    }
   }
  },
  {
   "cell_type": "code",
   "execution_count": 107,
   "outputs": [],
   "source": [
    "hr_list = [pd.read_csv(f).drop([\"Start time\", \"Date\", \"Duration\", \"Average heart rate (bpm)\", \"Calories\"], axis=1) for f\n",
    "           in csv_files]\n",
    "\n",
    "for df in hr_list:\n",
    "    df[\"Player Number\"] = int(df[\"Player Number\"][0])\n",
    "\n",
    "hr_dataframe = pd.concat(hr_list)"
   ],
   "metadata": {
    "collapsed": false,
    "pycharm": {
     "name": "#%%\n"
    }
   }
  },
  {
   "cell_type": "code",
   "execution_count": 108,
   "outputs": [],
   "source": [
    "def hr_stats(hri):\n",
    "    return pd.Series({\"player\": hri[\"Player Number\"].min(),\n",
    "                         \"hr_min\": hri[\"HR (bpm)\"].min(),\n",
    "                         \"hr_max\": hri[\"HR (bpm)\"].max(),\n",
    "                         \"hr_mean\": hri[\"HR (bpm)\"].mean(),\n",
    "                         \"hr_std\": hri[\"HR (bpm)\"].std(),\n",
    "                         \"hr_peak\": hri[\"HR (bpm)\"][hri[\"HR (bpm)\"] >= 0.9 * hri[\"HR (bpm)\"].max()].count() / hri[\n",
    "                             \"HR (bpm)\"].count(),\n",
    "                         \"hr_bottom\": hri[\"HR (bpm)\"][hri[\"HR (bpm)\"] <= 1.1 * hri[\"HR (bpm)\"].min()].count() / hri[\n",
    "                             \"HR (bpm)\"].count()})\n"
   ],
   "metadata": {
    "collapsed": false,
    "pycharm": {
     "name": "#%%\n"
    }
   }
  },
  {
   "cell_type": "code",
   "execution_count": 110,
   "outputs": [],
   "source": [
    "hr_player_summary = hr_dataframe.groupby([\"Player Number\"]).apply(hr_stats)\n",
    "hr_player_summary[\"player\"] = hr_player_summary[\"player\"].astype(np.int64)\n",
    "hr_player_summary.sort_values(by=\"Player Number\").to_csv(os.path.join(path, \"..\", \"Processed\", \"hr_summary.csv\"),index=False)"
   ],
   "metadata": {
    "collapsed": false,
    "pycharm": {
     "name": "#%%\n"
    }
   }
  },
  {
   "cell_type": "code",
   "execution_count": null,
   "outputs": [],
   "source": [],
   "metadata": {
    "collapsed": false,
    "pycharm": {
     "name": "#%%\n"
    }
   }
  },
  {
   "cell_type": "code",
   "execution_count": null,
   "outputs": [],
   "source": [],
   "metadata": {
    "collapsed": false,
    "pycharm": {
     "name": "#%%\n"
    }
   }
  }
 ],
 "metadata": {
  "kernelspec": {
   "display_name": "Python 3",
   "language": "python",
   "name": "python3"
  },
  "language_info": {
   "codemirror_mode": {
    "name": "ipython",
    "version": 2
   },
   "file_extension": ".py",
   "mimetype": "text/x-python",
   "name": "python",
   "nbconvert_exporter": "python",
   "pygments_lexer": "ipython2",
   "version": "2.7.6"
  }
 },
 "nbformat": 4,
 "nbformat_minor": 0
}