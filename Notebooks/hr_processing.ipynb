{
 "cells": [
  {
   "cell_type": "code",
   "execution_count": 111,
   "metadata": {
    "collapsed": true
   },
   "outputs": [],
   "source": [
    "import pandas as pd\n",
    "import os\n",
    "import glob\n",
    "import numpy as np"
   ]
  },
  {
   "cell_type": "code",
   "execution_count": 112,
   "outputs": [],
   "source": [
    "path = os.getcwd()\n",
    "csv_files = glob.glob(os.path.join(path, \"..\", \"HR Data\", \"*.csv\"))"
   ],
   "metadata": {
    "collapsed": false,
    "pycharm": {
     "name": "#%%\n"
    }
   }
  },
  {
   "cell_type": "code",
   "execution_count": 113,
   "outputs": [],
   "source": [
    "hr_list = [pd.read_csv(f).drop([\"Start time\", \"Date\", \"Duration\", \"Average heart rate (bpm)\", \"Calories\"], axis=1) for f\n",
    "           in csv_files]\n",
    "\n",
    "for df in hr_list:\n",
    "    df[\"Player Number\"] = int(df[\"Player Number\"][0])\n",
    "\n",
    "hr_dataframe = pd.concat(hr_list)"
   ],
   "metadata": {
    "collapsed": false,
    "pycharm": {
     "name": "#%%\n"
    }
   }
  },
  {
   "cell_type": "code",
   "execution_count": 114,
   "outputs": [],
   "source": [
    "def hr_stats(hri):\n",
    "    return pd.Series({\"player\": hri[\"Player Number\"].min(),\n",
    "                         \"hr_min\": hri[\"HR (bpm)\"].min(),\n",
    "                         \"hr_max\": hri[\"HR (bpm)\"].max(),\n",
    "                         \"hr_mean\": hri[\"HR (bpm)\"].mean(),\n",
    "                         \"hr_std\": hri[\"HR (bpm)\"].std(),\n",
    "                         \"hr_peak\": hri[\"HR (bpm)\"][hri[\"HR (bpm)\"] >= 0.9 * hri[\"HR (bpm)\"].max()].count() / hri[\n",
    "                             \"HR (bpm)\"].count(),\n",
    "                         \"hr_bottom\": hri[\"HR (bpm)\"][hri[\"HR (bpm)\"] <= 1.1 * hri[\"HR (bpm)\"].min()].count() / hri[\n",
    "                             \"HR (bpm)\"].count()})\n"
   ],
   "metadata": {
    "collapsed": false,
    "pycharm": {
     "name": "#%%\n"
    }
   }
  },
  {
   "cell_type": "code",
   "execution_count": 115,
   "outputs": [],
   "source": [
    "hr_player_summary = hr_dataframe.groupby([\"Player Number\"]).apply(hr_stats)\n",
    "hr_player_summary[\"player\"] = hr_player_summary[\"player\"].astype(np.int64)\n",
    "hr_player_summary.sort_values(by=\"Player Number\").to_csv(os.path.join(path, \"..\", \"Processed\", \"hr_summary.csv\"),index=False)"
   ],
   "metadata": {
    "collapsed": false,
    "pycharm": {
     "name": "#%%\n"
    }
   }
  },
  {
   "cell_type": "code",
   "execution_count": 116,
   "outputs": [
    {
     "data": {
      "text/plain": "    player  attempt     run_start       run_end   time  chambers   \n0        1        1  01:50:100000  06:30:500000  280.4         3  \\\n1        1        2  08:32:600000  12:52:200000  259.6         5   \n2        1        3  16:22:400000  27:00:100000  637.7        10   \n3        1        4  28:25:700000  42:55:200000  869.5        14   \n4        2        1  02:23:400000  06:44:700000  261.3         3   \n..     ...      ...           ...           ...    ...       ...   \n89      20        3  12:01:800000  16:16:800000  255.0         6   \n90      20        4  17:25:700000  19:50:500000  144.8         4   \n91      20        5  20:30:600000  22:38:500000  127.9         3   \n92      20        6  23:42:400000  29:15:500000  333.1         7   \n93      20        7  31:57:500000  35:59:200000  241.7         6   \n\n    boss_encounters  \n0                 0  \n1                 0  \n2                 0  \n3                 1  \n4                 0  \n..              ...  \n89                0  \n90                0  \n91                0  \n92                0  \n93                0  \n\n[94 rows x 7 columns]",
      "text/html": "<div>\n<style scoped>\n    .dataframe tbody tr th:only-of-type {\n        vertical-align: middle;\n    }\n\n    .dataframe tbody tr th {\n        vertical-align: top;\n    }\n\n    .dataframe thead th {\n        text-align: right;\n    }\n</style>\n<table border=\"1\" class=\"dataframe\">\n  <thead>\n    <tr style=\"text-align: right;\">\n      <th></th>\n      <th>player</th>\n      <th>attempt</th>\n      <th>run_start</th>\n      <th>run_end</th>\n      <th>time</th>\n      <th>chambers</th>\n      <th>boss_encounters</th>\n    </tr>\n  </thead>\n  <tbody>\n    <tr>\n      <th>0</th>\n      <td>1</td>\n      <td>1</td>\n      <td>01:50:100000</td>\n      <td>06:30:500000</td>\n      <td>280.4</td>\n      <td>3</td>\n      <td>0</td>\n    </tr>\n    <tr>\n      <th>1</th>\n      <td>1</td>\n      <td>2</td>\n      <td>08:32:600000</td>\n      <td>12:52:200000</td>\n      <td>259.6</td>\n      <td>5</td>\n      <td>0</td>\n    </tr>\n    <tr>\n      <th>2</th>\n      <td>1</td>\n      <td>3</td>\n      <td>16:22:400000</td>\n      <td>27:00:100000</td>\n      <td>637.7</td>\n      <td>10</td>\n      <td>0</td>\n    </tr>\n    <tr>\n      <th>3</th>\n      <td>1</td>\n      <td>4</td>\n      <td>28:25:700000</td>\n      <td>42:55:200000</td>\n      <td>869.5</td>\n      <td>14</td>\n      <td>1</td>\n    </tr>\n    <tr>\n      <th>4</th>\n      <td>2</td>\n      <td>1</td>\n      <td>02:23:400000</td>\n      <td>06:44:700000</td>\n      <td>261.3</td>\n      <td>3</td>\n      <td>0</td>\n    </tr>\n    <tr>\n      <th>...</th>\n      <td>...</td>\n      <td>...</td>\n      <td>...</td>\n      <td>...</td>\n      <td>...</td>\n      <td>...</td>\n      <td>...</td>\n    </tr>\n    <tr>\n      <th>89</th>\n      <td>20</td>\n      <td>3</td>\n      <td>12:01:800000</td>\n      <td>16:16:800000</td>\n      <td>255.0</td>\n      <td>6</td>\n      <td>0</td>\n    </tr>\n    <tr>\n      <th>90</th>\n      <td>20</td>\n      <td>4</td>\n      <td>17:25:700000</td>\n      <td>19:50:500000</td>\n      <td>144.8</td>\n      <td>4</td>\n      <td>0</td>\n    </tr>\n    <tr>\n      <th>91</th>\n      <td>20</td>\n      <td>5</td>\n      <td>20:30:600000</td>\n      <td>22:38:500000</td>\n      <td>127.9</td>\n      <td>3</td>\n      <td>0</td>\n    </tr>\n    <tr>\n      <th>92</th>\n      <td>20</td>\n      <td>6</td>\n      <td>23:42:400000</td>\n      <td>29:15:500000</td>\n      <td>333.1</td>\n      <td>7</td>\n      <td>0</td>\n    </tr>\n    <tr>\n      <th>93</th>\n      <td>20</td>\n      <td>7</td>\n      <td>31:57:500000</td>\n      <td>35:59:200000</td>\n      <td>241.7</td>\n      <td>6</td>\n      <td>0</td>\n    </tr>\n  </tbody>\n</table>\n<p>94 rows × 7 columns</p>\n</div>"
     },
     "execution_count": 116,
     "metadata": {},
     "output_type": "execute_result"
    }
   ],
   "source": [
    "runs = pd.read_csv(os.path.join(path, \"..\", \"Processed\", \"run_stats.csv\"))\n",
    "\n",
    "def calculate_run(hri,runs):\n"
   ],
   "metadata": {
    "collapsed": false,
    "pycharm": {
     "name": "#%%\n"
    }
   }
  },
  {
   "cell_type": "code",
   "execution_count": 115,
   "outputs": [],
   "source": [],
   "metadata": {
    "collapsed": false,
    "pycharm": {
     "name": "#%%\n"
    }
   }
  }
 ],
 "metadata": {
  "kernelspec": {
   "display_name": "Python 3",
   "language": "python",
   "name": "python3"
  },
  "language_info": {
   "codemirror_mode": {
    "name": "ipython",
    "version": 2
   },
   "file_extension": ".py",
   "mimetype": "text/x-python",
   "name": "python",
   "nbconvert_exporter": "python",
   "pygments_lexer": "ipython2",
   "version": "2.7.6"
  }
 },
 "nbformat": 4,
 "nbformat_minor": 0
}