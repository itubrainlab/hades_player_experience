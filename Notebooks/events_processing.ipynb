{
 "cells": [
  {
   "cell_type": "code",
   "execution_count": 19,
   "metadata": {
    "collapsed": true
   },
   "outputs": [],
   "source": [
    "import pandas as pd\n",
    "import os\n",
    "from datetime import datetime"
   ]
  },
  {
   "cell_type": "code",
   "execution_count": 20,
   "outputs": [],
   "source": [
    "events = []\n",
    "\n",
    "\n",
    "def parse_time(time_string):\n",
    "    return datetime.strptime(time_string, \"%M:%S,%f\")\n",
    "\n",
    "\n",
    "def event(player, event_name, time_string):\n",
    "    return {\"player\": player, \"event\": event_name, \"timestamp\": parse_time(time_string)}\n",
    "\n",
    "\n",
    "def player_id(player_string):\n",
    "    return int(player_string.replace(\"<Files\\\\\\\\Player \", \"\").split(\">\")[0])"
   ],
   "metadata": {
    "collapsed": false,
    "pycharm": {
     "name": "#%%\n"
    }
   }
  },
  {
   "cell_type": "code",
   "execution_count": 21,
   "outputs": [],
   "source": [
    "file = open('../Codes/Chamber.txt', 'r', encoding=\"utf16\", errors='ignore')\n",
    "lines = file.readlines()\n",
    "for line in lines:\n",
    "    if \"Player\" in line:\n",
    "        current_player = player_id(line)\n",
    "    elif line[0] == '[':\n",
    "        time_strings = line.replace(\"[\", \"\").replace(\"]\", \"\").replace(\"\\n\", \"\").split(\" - \")\n",
    "        events.append(event(current_player, \"chamber_enter\", time_strings[0]))\n",
    "        events.append(event(current_player, \"chamber_exit\", time_strings[1]))"
   ],
   "metadata": {
    "collapsed": false,
    "pycharm": {
     "name": "#%%\n"
    }
   }
  },
  {
   "cell_type": "code",
   "execution_count": 22,
   "outputs": [],
   "source": [
    "file = open('../Codes/Death.txt', 'r', encoding=\"utf16\", errors='ignore')\n",
    "lines = file.readlines()\n",
    "for line in lines:\n",
    "    if \"Player\" in line:\n",
    "        current_player = player_id(line)\n",
    "    elif line[0] == '[':\n",
    "        time_strings = line.replace(\"[\", \"\").replace(\"]\", \"\").replace(\"\\n\", \"\").split(\" - \")\n",
    "        events.append(event(current_player, \"death\", time_strings[0]))"
   ],
   "metadata": {
    "collapsed": false,
    "pycharm": {
     "name": "#%%\n"
    }
   }
  },
  {
   "cell_type": "code",
   "execution_count": 23,
   "outputs": [],
   "source": [
    "file = open('../Codes/Meg Encounter.txt', 'r', encoding=\"utf16\", errors='ignore')\n",
    "lines = file.readlines()\n",
    "for line in lines:\n",
    "    if \"Player\" in line:\n",
    "        current_player = player_id(line)\n",
    "    elif line[0] == '[':\n",
    "        time_strings = line.replace(\"[\", \"\").replace(\"]\", \"\").replace(\"\\n\", \"\").split(\" - \")\n",
    "        events.append(event(current_player, \"boss_fight_begin\", time_strings[0]))\n",
    "        events.append(event(current_player, \"boss_fight_end\", time_strings[1]))"
   ],
   "metadata": {
    "collapsed": false,
    "pycharm": {
     "name": "#%%\n"
    }
   }
  },
  {
   "cell_type": "code",
   "execution_count": 24,
   "outputs": [],
   "source": [
    "file = open('../Codes/Run.txt', 'r', encoding=\"utf16\", errors='ignore')\n",
    "lines = file.readlines()\n",
    "for line in lines:\n",
    "    if \"Player\" in line:\n",
    "        current_player = player_id(line)\n",
    "    elif line[0] == '[':\n",
    "        time_strings = line.replace(\"[\", \"\").replace(\"]\", \"\").replace(\"\\n\", \"\").split(\" - \")\n",
    "        events.append(event(current_player, \"run_begin\", time_strings[0]))\n",
    "        events.append(event(current_player, \"run_end\", time_strings[1]))"
   ],
   "metadata": {
    "collapsed": false,
    "pycharm": {
     "name": "#%%\n"
    }
   }
  },
  {
   "cell_type": "code",
   "execution_count": 25,
   "outputs": [],
   "source": [
    "dataset = pd.DataFrame(events).sort_values(by=[\"player\", \"timestamp\"])\n",
    "dataset[\"chamber\"] = None\n",
    "dataset[\"attempt\"] = None\n",
    "\n",
    "attempt = 0\n",
    "in_run = False\n",
    "chamber = None\n",
    "player = 1\n",
    "death = False\n",
    "for index, row in dataset.iterrows():\n",
    "    if player < row[\"player\"]:\n",
    "        player += 1\n",
    "        attempt = 0\n",
    "        chamber = None\n",
    "\n",
    "    if row[\"event\"] == \"chamber_enter\":\n",
    "        if in_run is False:\n",
    "            in_run = True\n",
    "            chamber = 1\n",
    "            attempt += 1\n",
    "            death = False\n",
    "        elif chamber is None:\n",
    "            chamber = 1\n",
    "        else:\n",
    "            chamber += 1\n",
    "\n",
    "    if row[\"event\"] == \"run_begin\":\n",
    "        if in_run is False:\n",
    "            in_run = True\n",
    "            death = False\n",
    "            chamber = None\n",
    "            attempt += 1\n",
    "\n",
    "    if row[\"event\"] == \"death\":\n",
    "        death = True\n",
    "\n",
    "    if row[\"event\"] == \"chamber_exit\" and chamber is None:\n",
    "        chamber = 1\n",
    "\n",
    "    dataset.at[index, 'chamber'] = chamber\n",
    "    dataset.at[index, 'attempt'] = attempt\n",
    "\n",
    "    if row[\"event\"] == \"run_end\":\n",
    "        in_run = False\n",
    "\n",
    "dataset.to_csv(\"../Processed/game_events.csv\", index=False, date_format=\"%M:%S:%f\")"
   ],
   "metadata": {
    "collapsed": false,
    "pycharm": {
     "name": "#%%\n"
    }
   }
  },
  {
   "cell_type": "code",
   "execution_count": 26,
   "outputs": [],
   "source": [
    "def player_stats(player):\n",
    "    return pd.Series({\"mean_run_time\": (player[\"timestamp\"].max() - player[\"timestamp\"].min()).total_seconds()/player[\"attempt\"].max(),\n",
    "                      \"total_chambers\": player[\"event\"][player[\"event\"] == \"chamber_enter\"].count(),\n",
    "                      \"max_chamber\": player[\"chamber\"].max(),\n",
    "                      \"mean_chamber_per_run\": player[\"event\"][player[\"event\"] == \"chamber_enter\"].count() / player[\n",
    "                          \"attempt\"].max(),\n",
    "                      \"number_of_runs\": player[\"attempt\"].max(),\n",
    "                      \"boss_encounters\": player[\"event\"][player[\"event\"] == \"boss_fight_begin\"].count()\n",
    "                      })\n",
    "\n",
    "\n",
    "dataset.groupby([\"player\"]).apply(player_stats).reset_index().to_csv(\"../Processed/player_stats.csv\", index=False,\n",
    "                                                                     date_format=\"%M:%S:%f\")"
   ],
   "metadata": {
    "collapsed": false,
    "pycharm": {
     "name": "#%%\n"
    }
   }
  },
  {
   "cell_type": "code",
   "execution_count": 27,
   "outputs": [],
   "source": [
    "def run_stats(attempt):\n",
    "    return pd.Series({\"run_start\": attempt[\"timestamp\"].min(), \"run_end\": attempt[\"timestamp\"].max(),\n",
    "                      \"time\": (attempt[\"timestamp\"].max() - attempt[\"timestamp\"].min()).total_seconds(),\n",
    "                      \"chambers\": attempt[\"chamber\"].max(),\n",
    "                      \"boss_encounters\": attempt[\"event\"][attempt[\"event\"] == \"boss_fight_begin\"].count()\n",
    "                      })\n",
    "\n",
    "\n",
    "dataset.groupby([\"player\", \"attempt\"]).apply(run_stats).reset_index().to_csv(\"../Processed/run_stats.csv\", index=False,\n",
    "                                                                             date_format=\"%M:%S:%f\")"
   ],
   "metadata": {
    "collapsed": false,
    "pycharm": {
     "name": "#%%\n"
    }
   }
  }
 ],
 "metadata": {
  "kernelspec": {
   "display_name": "Python 3",
   "language": "python",
   "name": "python3"
  },
  "language_info": {
   "codemirror_mode": {
    "name": "ipython",
    "version": 2
   },
   "file_extension": ".py",
   "mimetype": "text/x-python",
   "name": "python",
   "nbconvert_exporter": "python",
   "pygments_lexer": "ipython2",
   "version": "2.7.6"
  }
 },
 "nbformat": 4,
 "nbformat_minor": 0
}