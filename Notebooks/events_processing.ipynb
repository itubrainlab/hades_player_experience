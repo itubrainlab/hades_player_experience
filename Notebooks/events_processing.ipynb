{
 "cells": [
  {
   "cell_type": "code",
   "execution_count": 474,
   "metadata": {
    "collapsed": true
   },
   "outputs": [],
   "source": [
    "import pandas as pd\n",
    "import os\n",
    "from datetime import datetime"
   ]
  },
  {
   "cell_type": "code",
   "execution_count": 475,
   "outputs": [],
   "source": [
    "events = []\n",
    "\n",
    "\n",
    "def parse_time(time_string):\n",
    "    return datetime.strptime(time_string, \"%M:%S,%f\")\n",
    "\n",
    "\n",
    "def event(player, event_name, time_string):\n",
    "    return {\"player\": player, \"event\": event_name, \"timestamp\": parse_time(time_string)}\n",
    "\n",
    "def player_id(player_string):\n",
    "    return int(player_string.replace(\"<Files\\\\\\\\Player \", \"\").split(\">\")[0])"
   ],
   "metadata": {
    "collapsed": false,
    "pycharm": {
     "name": "#%%\n"
    }
   }
  },
  {
   "cell_type": "code",
   "execution_count": 476,
   "outputs": [],
   "source": [
    "file = open('../Codes/Chamber.txt', 'r', encoding=\"utf16\", errors='ignore')\n",
    "lines = file.readlines()\n",
    "for line in lines:\n",
    "    if \"Player\" in line:\n",
    "        current_player = player_id(line)\n",
    "    elif line[0] == '[':\n",
    "        time_strings = line.replace(\"[\", \"\").replace(\"]\", \"\").replace(\"\\n\", \"\").split(\" - \")\n",
    "        events.append(event(current_player, \"chamber_enter\", time_strings[0]))\n",
    "        events.append(event(current_player, \"chamber_exit\", time_strings[1]))"
   ],
   "metadata": {
    "collapsed": false,
    "pycharm": {
     "name": "#%%\n"
    }
   }
  },
  {
   "cell_type": "code",
   "execution_count": 477,
   "outputs": [],
   "source": [
    "file = open('../Codes/Death.txt', 'r', encoding=\"utf16\", errors='ignore')\n",
    "lines = file.readlines()\n",
    "for line in lines:\n",
    "    if \"Player\" in line:\n",
    "        current_player = player_id(line)\n",
    "    elif line[0] == '[':\n",
    "        time_strings = line.replace(\"[\", \"\").replace(\"]\", \"\").replace(\"\\n\", \"\").split(\" - \")\n",
    "        events.append(event(current_player, \"death\", time_strings[0]))"
   ],
   "metadata": {
    "collapsed": false,
    "pycharm": {
     "name": "#%%\n"
    }
   }
  },
  {
   "cell_type": "code",
   "execution_count": 478,
   "outputs": [],
   "source": [
    "file = open('../Codes/Meg Encounter.txt', 'r', encoding=\"utf16\", errors='ignore')\n",
    "lines = file.readlines()\n",
    "for line in lines:\n",
    "    if \"Player\" in line:\n",
    "        current_player = player_id(line)\n",
    "    elif line[0] == '[':\n",
    "        time_strings = line.replace(\"[\", \"\").replace(\"]\", \"\").replace(\"\\n\", \"\").split(\" - \")\n",
    "        events.append(event(current_player, \"boss_fight_begin\", time_strings[0]))\n",
    "        events.append(event(current_player, \"boss_fight_end\", time_strings[1]))"
   ],
   "metadata": {
    "collapsed": false,
    "pycharm": {
     "name": "#%%\n"
    }
   }
  },
  {
   "cell_type": "code",
   "execution_count": 479,
   "outputs": [],
   "source": [
    "file = open('../Codes/Run.txt', 'r', encoding=\"utf16\", errors='ignore')\n",
    "lines = file.readlines()\n",
    "for line in lines:\n",
    "    if \"Player\" in line:\n",
    "        current_player = player_id(line)\n",
    "    elif line[0] == '[':\n",
    "        time_strings = line.replace(\"[\", \"\").replace(\"]\", \"\").replace(\"\\n\", \"\").split(\" - \")\n",
    "        events.append(event(current_player, \"run_begin\", time_strings[0]))\n",
    "        events.append(event(current_player, \"run_end\", time_strings[1]))"
   ],
   "metadata": {
    "collapsed": false,
    "pycharm": {
     "name": "#%%\n"
    }
   }
  },
  {
   "cell_type": "code",
   "execution_count": 480,
   "outputs": [
    {
     "data": {
      "text/plain": "      player          event               timestamp chamber attempt\n1278       1      run_begin 1900-01-01 00:01:50.100    None       1\n0          1  chamber_enter 1900-01-01 00:02:09.100       1       1\n1          1   chamber_exit 1900-01-01 00:03:57.000       1       1\n2          1  chamber_enter 1900-01-01 00:04:00.400       2       1\n3          1   chamber_exit 1900-01-01 00:04:48.600       2       1\n...      ...            ...                     ...     ...     ...\n765       20   chamber_exit 1900-01-01 00:35:21.500       5       7\n766       20  chamber_enter 1900-01-01 00:35:23.900       6       7\n1232      20          death 1900-01-01 00:35:58.900       6       7\n767       20   chamber_exit 1900-01-01 00:35:59.100       6       7\n1407      20        run_end 1900-01-01 00:35:59.200       6       7\n\n[1466 rows x 5 columns]",
      "text/html": "<div>\n<style scoped>\n    .dataframe tbody tr th:only-of-type {\n        vertical-align: middle;\n    }\n\n    .dataframe tbody tr th {\n        vertical-align: top;\n    }\n\n    .dataframe thead th {\n        text-align: right;\n    }\n</style>\n<table border=\"1\" class=\"dataframe\">\n  <thead>\n    <tr style=\"text-align: right;\">\n      <th></th>\n      <th>player</th>\n      <th>event</th>\n      <th>timestamp</th>\n      <th>chamber</th>\n      <th>attempt</th>\n    </tr>\n  </thead>\n  <tbody>\n    <tr>\n      <th>1278</th>\n      <td>1</td>\n      <td>run_begin</td>\n      <td>1900-01-01 00:01:50.100</td>\n      <td>None</td>\n      <td>1</td>\n    </tr>\n    <tr>\n      <th>0</th>\n      <td>1</td>\n      <td>chamber_enter</td>\n      <td>1900-01-01 00:02:09.100</td>\n      <td>1</td>\n      <td>1</td>\n    </tr>\n    <tr>\n      <th>1</th>\n      <td>1</td>\n      <td>chamber_exit</td>\n      <td>1900-01-01 00:03:57.000</td>\n      <td>1</td>\n      <td>1</td>\n    </tr>\n    <tr>\n      <th>2</th>\n      <td>1</td>\n      <td>chamber_enter</td>\n      <td>1900-01-01 00:04:00.400</td>\n      <td>2</td>\n      <td>1</td>\n    </tr>\n    <tr>\n      <th>3</th>\n      <td>1</td>\n      <td>chamber_exit</td>\n      <td>1900-01-01 00:04:48.600</td>\n      <td>2</td>\n      <td>1</td>\n    </tr>\n    <tr>\n      <th>...</th>\n      <td>...</td>\n      <td>...</td>\n      <td>...</td>\n      <td>...</td>\n      <td>...</td>\n    </tr>\n    <tr>\n      <th>765</th>\n      <td>20</td>\n      <td>chamber_exit</td>\n      <td>1900-01-01 00:35:21.500</td>\n      <td>5</td>\n      <td>7</td>\n    </tr>\n    <tr>\n      <th>766</th>\n      <td>20</td>\n      <td>chamber_enter</td>\n      <td>1900-01-01 00:35:23.900</td>\n      <td>6</td>\n      <td>7</td>\n    </tr>\n    <tr>\n      <th>1232</th>\n      <td>20</td>\n      <td>death</td>\n      <td>1900-01-01 00:35:58.900</td>\n      <td>6</td>\n      <td>7</td>\n    </tr>\n    <tr>\n      <th>767</th>\n      <td>20</td>\n      <td>chamber_exit</td>\n      <td>1900-01-01 00:35:59.100</td>\n      <td>6</td>\n      <td>7</td>\n    </tr>\n    <tr>\n      <th>1407</th>\n      <td>20</td>\n      <td>run_end</td>\n      <td>1900-01-01 00:35:59.200</td>\n      <td>6</td>\n      <td>7</td>\n    </tr>\n  </tbody>\n</table>\n<p>1466 rows × 5 columns</p>\n</div>"
     },
     "execution_count": 480,
     "metadata": {},
     "output_type": "execute_result"
    }
   ],
   "source": [
    "dataset = pd.DataFrame(events).sort_values(by=[\"player\", \"timestamp\"])\n",
    "dataset[\"chamber\"] = None\n",
    "dataset[\"attempt\"] = None\n",
    "\n",
    "attempt=0\n",
    "in_run=False\n",
    "chamber=None\n",
    "player=1\n",
    "death=False\n",
    "for index, row in dataset.iterrows():\n",
    "    if player < row[\"player\"]:\n",
    "        player +=1\n",
    "        attempt = 0\n",
    "        chamber = None\n",
    "\n",
    "    if row[\"event\"] == \"chamber_enter\":\n",
    "        if in_run is False:\n",
    "            in_run = True\n",
    "            chamber = 1\n",
    "            attempt += 1\n",
    "            death = False\n",
    "        elif chamber is None:\n",
    "            chamber = 1\n",
    "        else:\n",
    "            chamber +=1\n",
    "\n",
    "    if row[\"event\"] == \"run_begin\":\n",
    "        if in_run is False:\n",
    "            in_run = True\n",
    "            death = False\n",
    "            chamber = None\n",
    "            attempt += 1\n",
    "\n",
    "    if row[\"event\"] == \"death\":\n",
    "        death = True\n",
    "\n",
    "    if row[\"event\"] == \"chamber_exit\" and chamber is None:\n",
    "        chamber = 1\n",
    "\n",
    "    dataset.at[index,'chamber'] = chamber\n",
    "    dataset.at[index,'attempt'] = attempt\n",
    "\n",
    "    if row[\"event\"] == \"run_end\":\n",
    "        in_run = False\n",
    "\n",
    "dataset"
   ],
   "metadata": {
    "collapsed": false,
    "pycharm": {
     "name": "#%%\n"
    }
   }
  },
  {
   "cell_type": "code",
   "execution_count": 481,
   "outputs": [],
   "source": [
    "dataset.to_csv(\"../Processed/game_events.csv\", index=False, date_format=\"%M:%S:%f\")"
   ],
   "metadata": {
    "collapsed": false,
    "pycharm": {
     "name": "#%%\n"
    }
   }
  },
  {
   "cell_type": "code",
   "execution_count": 482,
   "outputs": [],
   "source": [
    "def player_stats(player):\n",
    "    return pd.Series({\"time\":(player[\"timestamp\"].max()-player[\"timestamp\"].min()).total_seconds(),\n",
    "                      \"total_chambers\":player[\"event\"][player[\"event\"] == \"chamber_enter\"].count(),\n",
    "                      \"max_chamber\":player[\"chamber\"].max(),\n",
    "                      \"mean_chamber_per_run\":player[\"event\"][player[\"event\"] == \"chamber_enter\"].count()/player[\"attempt\"].max(),\n",
    "                      \"number_of_runs\":player[\"attempt\"].max(),\n",
    "                      \"boss_encounters\":player[\"event\"][player[\"event\"] == \"boss_fight_begin\"].count()\n",
    "                      })\n",
    "\n",
    "dataset.groupby([\"player\"]).apply(player_stats).reset_index().to_csv(\"../Processed/player_stats.csv\", index=False, date_format=\"%M:%S:%f\")"
   ],
   "metadata": {
    "collapsed": false,
    "pycharm": {
     "name": "#%%\n"
    }
   }
  }
 ],
 "metadata": {
  "kernelspec": {
   "display_name": "Python 3",
   "language": "python",
   "name": "python3"
  },
  "language_info": {
   "codemirror_mode": {
    "name": "ipython",
    "version": 2
   },
   "file_extension": ".py",
   "mimetype": "text/x-python",
   "name": "python",
   "nbconvert_exporter": "python",
   "pygments_lexer": "ipython2",
   "version": "2.7.6"
  }
 },
 "nbformat": 4,
 "nbformat_minor": 0
}